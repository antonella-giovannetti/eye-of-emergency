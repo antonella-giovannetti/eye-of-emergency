{
 "cells": [
  {
   "cell_type": "markdown",
   "metadata": {},
   "source": [
    "## <u style=\"color: blue\">7. Gridsearch</u> "
   ]
  },
  {
   "cell_type": "markdown",
   "metadata": {},
   "source": [
    "Comme précisé dans le notebook principal, vous trouverez ici les calculs de Gridsearch pour définir le modèle le plus performant pour la prédiction de tweets concernant des catastrophes:\n",
    "- Decision Tree\n",
    "- Random Forest\n",
    "- Linear Regression\n",
    "- XGBoost\n",
    "- SVM"
   ]
  },
  {
   "cell_type": "code",
   "execution_count": 1,
   "metadata": {},
   "outputs": [],
   "source": [
    "import pandas as pd\n",
    "\n",
    "from sklearn.model_selection import train_test_split\n",
    "from sklearn.model_selection import GridSearchCV\n",
    "from sklearn.metrics import classification_report\n",
    "from sklearn.metrics import confusion_matrix\n",
    "from sklearn.metrics import accuracy_score\n",
    "from sklearn.feature_extraction.text import CountVectorizer, TfidfVectorizer\n",
    "\n",
    "from sklearn.linear_model import LogisticRegression\n",
    "from Decision_Tree import DecisionTree\n",
    "from sklearn.tree import DecisionTreeClassifier\n",
    "from sklearn.ensemble import RandomForestClassifier\n",
    "from sklearn import svm\n",
    "import xgboost as xgb"
   ]
  },
  {
   "cell_type": "code",
   "execution_count": 2,
   "metadata": {},
   "outputs": [],
   "source": [
    "df_train = pd.read_csv('./CSV/train_tweets_cleaned.csv')"
   ]
  },
  {
   "cell_type": "code",
   "execution_count": 3,
   "metadata": {},
   "outputs": [
    {
     "data": {
      "text/html": [
       "<div>\n",
       "<style scoped>\n",
       "    .dataframe tbody tr th:only-of-type {\n",
       "        vertical-align: middle;\n",
       "    }\n",
       "\n",
       "    .dataframe tbody tr th {\n",
       "        vertical-align: top;\n",
       "    }\n",
       "\n",
       "    .dataframe thead th {\n",
       "        text-align: right;\n",
       "    }\n",
       "</style>\n",
       "<table border=\"1\" class=\"dataframe\">\n",
       "  <thead>\n",
       "    <tr style=\"text-align: right;\">\n",
       "      <th></th>\n",
       "      <th>id</th>\n",
       "      <th>text</th>\n",
       "      <th>target</th>\n",
       "      <th>transformed_text</th>\n",
       "      <th>stemmed_text</th>\n",
       "    </tr>\n",
       "  </thead>\n",
       "  <tbody>\n",
       "    <tr>\n",
       "      <th>0</th>\n",
       "      <td>1</td>\n",
       "      <td>Deeds Reason ALLAH Forgive</td>\n",
       "      <td>1</td>\n",
       "      <td>['Deeds', 'Reason', 'ALLAH', 'Forgive']</td>\n",
       "      <td>deed reason allah forgiv</td>\n",
       "    </tr>\n",
       "    <tr>\n",
       "      <th>1</th>\n",
       "      <td>4</td>\n",
       "      <td>Forest fire near La Ronge Sask Canada</td>\n",
       "      <td>1</td>\n",
       "      <td>['Forest', 'fire', 'near', 'La', 'Ronge', 'Sas...</td>\n",
       "      <td>forest fire near la rong sask canada</td>\n",
       "    </tr>\n",
       "    <tr>\n",
       "      <th>2</th>\n",
       "      <td>5</td>\n",
       "      <td>residents asked shelter place notified officer...</td>\n",
       "      <td>1</td>\n",
       "      <td>['residents', 'asked', 'shelter', 'place', 'no...</td>\n",
       "      <td>resid ask shelter place notifi offic evacu she...</td>\n",
       "    </tr>\n",
       "    <tr>\n",
       "      <th>3</th>\n",
       "      <td>6</td>\n",
       "      <td>receive evacuation orders California</td>\n",
       "      <td>1</td>\n",
       "      <td>['receive', 'evacuation', 'orders', 'California']</td>\n",
       "      <td>receiv evacu order california</td>\n",
       "    </tr>\n",
       "    <tr>\n",
       "      <th>4</th>\n",
       "      <td>7</td>\n",
       "      <td>sent photo Ruby smoke pours school</td>\n",
       "      <td>1</td>\n",
       "      <td>['sent', 'photo', 'Ruby', 'smoke', 'pours', 's...</td>\n",
       "      <td>sent photo rubi smoke pour school</td>\n",
       "    </tr>\n",
       "  </tbody>\n",
       "</table>\n",
       "</div>"
      ],
      "text/plain": [
       "   id                                               text  target  \\\n",
       "0   1                         Deeds Reason ALLAH Forgive       1   \n",
       "1   4              Forest fire near La Ronge Sask Canada       1   \n",
       "2   5  residents asked shelter place notified officer...       1   \n",
       "3   6               receive evacuation orders California       1   \n",
       "4   7                 sent photo Ruby smoke pours school       1   \n",
       "\n",
       "                                    transformed_text  \\\n",
       "0            ['Deeds', 'Reason', 'ALLAH', 'Forgive']   \n",
       "1  ['Forest', 'fire', 'near', 'La', 'Ronge', 'Sas...   \n",
       "2  ['residents', 'asked', 'shelter', 'place', 'no...   \n",
       "3  ['receive', 'evacuation', 'orders', 'California']   \n",
       "4  ['sent', 'photo', 'Ruby', 'smoke', 'pours', 's...   \n",
       "\n",
       "                                        stemmed_text  \n",
       "0                           deed reason allah forgiv  \n",
       "1               forest fire near la rong sask canada  \n",
       "2  resid ask shelter place notifi offic evacu she...  \n",
       "3                      receiv evacu order california  \n",
       "4                  sent photo rubi smoke pour school  "
      ]
     },
     "execution_count": 3,
     "metadata": {},
     "output_type": "execute_result"
    }
   ],
   "source": [
    "df_train.head()"
   ]
  },
  {
   "cell_type": "code",
   "execution_count": 4,
   "metadata": {},
   "outputs": [],
   "source": [
    "vectorizer = TfidfVectorizer(max_features=6678)\n",
    "X = vectorizer.fit_transform(df_train['stemmed_text'].fillna('')).toarray()\n",
    "\n",
    "y = df_train['target']"
   ]
  },
  {
   "cell_type": "code",
   "execution_count": 5,
   "metadata": {},
   "outputs": [],
   "source": [
    "X_train, X_test, y_train, y_test = train_test_split(X, y, test_size=0.2, stratify=y)"
   ]
  },
  {
   "cell_type": "markdown",
   "metadata": {},
   "source": [
    "Gridsearch pour le decision tree :"
   ]
  },
  {
   "cell_type": "code",
   "execution_count": 6,
   "metadata": {},
   "outputs": [],
   "source": [
    "models_params = [\n",
    "{\n",
    "    'model': DecisionTreeClassifier(),\n",
    "    'params': {\n",
    "    'criterion': ['gini', 'entropy']\n",
    "    },\n",
    "},\n",
    "{\n",
    "    'model': RandomForestClassifier(),\n",
    "    'params': {\n",
    "    'criterion': ['gini', 'entropy']\n",
    "    },\n",
    "},\n",
    "{\n",
    "    'model': xgb.XGBClassifier(),\n",
    "    'params': {\n",
    "    },\n",
    "},\n",
    "{\n",
    "    'model': svm.SVC(),\n",
    "    'params': {\n",
    "    'kernel': ['rbf', 'poly', 'sigmoid']\n",
    "    },\n",
    "},\n",
    "{\n",
    "    'model': LogisticRegression(),\n",
    "    'params': {\n",
    "    'solver': ['newton-cg', 'lbfgs', 'liblinear', 'sag', 'saga']\n",
    "    },\n",
    "}]"
   ]
  },
  {
   "cell_type": "code",
   "execution_count": 7,
   "metadata": {},
   "outputs": [
    {
     "name": "stdout",
     "output_type": "stream",
     "text": [
      "Fitting 5 folds for each of 2 candidates, totalling 10 fits\n",
      "Fitting 5 folds for each of 2 candidates, totalling 10 fits\n",
      "Fitting 5 folds for each of 1 candidates, totalling 5 fits\n",
      "Fitting 5 folds for each of 3 candidates, totalling 15 fits\n",
      "Fitting 5 folds for each of 5 candidates, totalling 25 fits\n"
     ]
    }
   ],
   "source": [
    "scores = []\n",
    "\n",
    "for model_param in models_params:\n",
    "    clf = GridSearchCV(model_param['model'], model_param['params'], n_jobs=-1, verbose=2)\n",
    "    clf.fit(X_train, y_train)\n",
    "    scores.append({\n",
    "        'model': model_param['model'],\n",
    "        'best_score': clf.best_score_,\n",
    "        'best_params': clf.best_params_\n",
    "    })"
   ]
  },
  {
   "cell_type": "markdown",
   "metadata": {},
   "source": [
    "Matrice de confusion pour chaque modèle testé:"
   ]
  },
  {
   "cell_type": "code",
   "execution_count": 9,
   "metadata": {},
   "outputs": [
    {
     "name": "stdout",
     "output_type": "stream",
     "text": [
      "model:  DecisionTreeClassifier()\n",
      "confusion matrix: \n",
      "[[572 220]\n",
      " [182 362]]\n",
      "classification report: \n",
      "              precision    recall  f1-score   support\n",
      "\n",
      "           0       0.76      0.72      0.74       792\n",
      "           1       0.62      0.67      0.64       544\n",
      "\n",
      "    accuracy                           0.70      1336\n",
      "   macro avg       0.69      0.69      0.69      1336\n",
      "weighted avg       0.70      0.70      0.70      1336\n",
      "\n",
      "accuracy:  0.6991017964071856\n",
      "\n",
      "model:  RandomForestClassifier()\n",
      "confusion matrix: \n",
      "[[685 107]\n",
      " [210 334]]\n",
      "classification report: \n",
      "              precision    recall  f1-score   support\n",
      "\n",
      "           0       0.77      0.86      0.81       792\n",
      "           1       0.76      0.61      0.68       544\n",
      "\n",
      "    accuracy                           0.76      1336\n",
      "   macro avg       0.76      0.74      0.75      1336\n",
      "weighted avg       0.76      0.76      0.76      1336\n",
      "\n",
      "accuracy:  0.7627245508982036\n",
      "\n",
      "model:  XGBClassifier(base_score=None, booster=None, callbacks=None,\n",
      "              colsample_bylevel=None, colsample_bynode=None,\n",
      "              colsample_bytree=None, device=None, early_stopping_rounds=None,\n",
      "              enable_categorical=False, eval_metric=None, feature_types=None,\n",
      "              gamma=None, grow_policy=None, importance_type=None,\n",
      "              interaction_constraints=None, learning_rate=None, max_bin=None,\n",
      "              max_cat_threshold=None, max_cat_to_onehot=None,\n",
      "              max_delta_step=None, max_depth=None, max_leaves=None,\n",
      "              min_child_weight=None, missing=nan, monotone_constraints=None,\n",
      "              multi_strategy=None, n_estimators=None, n_jobs=None,\n",
      "              num_parallel_tree=None, random_state=None, ...)\n",
      "confusion matrix: \n",
      "[[697  95]\n",
      " [233 311]]\n",
      "classification report: \n",
      "              precision    recall  f1-score   support\n",
      "\n",
      "           0       0.75      0.88      0.81       792\n",
      "           1       0.77      0.57      0.65       544\n",
      "\n",
      "    accuracy                           0.75      1336\n",
      "   macro avg       0.76      0.73      0.73      1336\n",
      "weighted avg       0.76      0.75      0.75      1336\n",
      "\n",
      "accuracy:  0.7544910179640718\n",
      "\n",
      "model:  SVC()\n",
      "confusion matrix: \n",
      "[[713  79]\n",
      " [228 316]]\n",
      "classification report: \n",
      "              precision    recall  f1-score   support\n",
      "\n",
      "           0       0.76      0.90      0.82       792\n",
      "           1       0.80      0.58      0.67       544\n",
      "\n",
      "    accuracy                           0.77      1336\n",
      "   macro avg       0.78      0.74      0.75      1336\n",
      "weighted avg       0.77      0.77      0.76      1336\n",
      "\n",
      "accuracy:  0.7702095808383234\n",
      "\n",
      "model:  LogisticRegression()\n",
      "confusion matrix: \n",
      "[[709  83]\n",
      " [215 329]]\n",
      "classification report: \n",
      "              precision    recall  f1-score   support\n",
      "\n",
      "           0       0.77      0.90      0.83       792\n",
      "           1       0.80      0.60      0.69       544\n",
      "\n",
      "    accuracy                           0.78      1336\n",
      "   macro avg       0.78      0.75      0.76      1336\n",
      "weighted avg       0.78      0.78      0.77      1336\n",
      "\n",
      "accuracy:  0.7769461077844312\n",
      "\n"
     ]
    }
   ],
   "source": [
    "# confusion matrix for each models\n",
    "for i in scores:\n",
    "    model = i['model']\n",
    "    model.fit(X_train, y_train)\n",
    "    y_pred = model.predict(X_test)\n",
    "    print('model: ', model)\n",
    "    print('confusion matrix: ')\n",
    "    print(confusion_matrix(y_test, y_pred))\n",
    "    print('classification report: ')\n",
    "    print(classification_report(y_test, y_pred))\n",
    "    print('accuracy: ', accuracy_score(y_test, y_pred))\n",
    "    print()"
   ]
  },
  {
   "cell_type": "markdown",
   "metadata": {},
   "source": [
    "Le meilleur modèle est le SVM avec un score de 0.77 et les paramètres suivants : {'kernel': 'rbf'}"
   ]
  },
  {
   "cell_type": "code",
   "execution_count": 10,
   "metadata": {},
   "outputs": [
    {
     "name": "stdout",
     "output_type": "stream",
     "text": [
      "Fitting 2 folds for each of 8 candidates, totalling 16 fits\n"
     ]
    }
   ],
   "source": [
    "model = svm.SVC()\n",
    "params = {\n",
    "    'kernel': ['rbf', 'sigmoid'],\n",
    "    'C': [0.1, 100],\n",
    "    'gamma': [0.1, 0.01]\n",
    "}\n",
    "\n",
    "models_scores = []\n",
    "\n",
    "clf = GridSearchCV(model, params, cv=2, n_jobs=-1, verbose=2)\n",
    "clf.fit(X_train, y_train)\n",
    "models_scores.append({\n",
    "    'model': model,\n",
    "    'best_score': clf.best_score_,\n",
    "    'best_params': clf.best_params_\n",
    "})"
   ]
  },
  {
   "cell_type": "code",
   "execution_count": 11,
   "metadata": {},
   "outputs": [
    {
     "name": "stdout",
     "output_type": "stream",
     "text": [
      "model:  SVC()\n",
      "score:  0.7570198427555223\n",
      "parameters:  {'C': 100, 'gamma': 0.01, 'kernel': 'sigmoid'}\n",
      "\n"
     ]
    }
   ],
   "source": [
    "for i in models_scores:\n",
    "    print('model: ', i['model'])\n",
    "    print('score: ', i['best_score'])\n",
    "    print('parameters: ', i['best_params'])\n",
    "    print()"
   ]
  },
  {
   "cell_type": "code",
   "execution_count": 8,
   "metadata": {},
   "outputs": [
    {
     "ename": "NameError",
     "evalue": "name 'clf' is not defined",
     "output_type": "error",
     "traceback": [
      "\u001b[1;31m---------------------------------------------------------------------------\u001b[0m",
      "\u001b[1;31mNameError\u001b[0m                                 Traceback (most recent call last)",
      "Cell \u001b[1;32mIn[8], line 2\u001b[0m\n\u001b[0;32m      1\u001b[0m \u001b[38;5;66;03m# confusion matrix\u001b[39;00m\n\u001b[1;32m----> 2\u001b[0m cm \u001b[38;5;241m=\u001b[39m confusion_matrix(y_test, \u001b[43mclf\u001b[49m\u001b[38;5;241m.\u001b[39mpredict(X_test))\n\u001b[0;32m      3\u001b[0m \u001b[38;5;28mprint\u001b[39m(cm)\n",
      "\u001b[1;31mNameError\u001b[0m: name 'clf' is not defined"
     ]
    }
   ],
   "source": [
    "# confusion matrix\n",
    "cm = confusion_matrix(y_test, clf.predict(X_test))\n",
    "print(cm)"
   ]
  },
  {
   "cell_type": "markdown",
   "metadata": {},
   "source": [
    "Maintenant que nous en avons terminé avec la partie du Gridsearch, nous pouvons retourner sur le premier notebook afin de mettre en application les résultats obtenus."
   ]
  },
  {
   "cell_type": "markdown",
   "metadata": {},
   "source": [
    "## <u style=\"color: blue\">[8. Evaluation des modèles](./Eye_Of_Emergency.ipynb#8.-Evaluation-des-modèles)</u>"
   ]
  }
 ],
 "metadata": {
  "kernelspec": {
   "display_name": "Python 3",
   "language": "python",
   "name": "python3"
  },
  "language_info": {
   "codemirror_mode": {
    "name": "ipython",
    "version": 3
   },
   "file_extension": ".py",
   "mimetype": "text/x-python",
   "name": "python",
   "nbconvert_exporter": "python",
   "pygments_lexer": "ipython3",
   "version": "3.12.2"
  }
 },
 "nbformat": 4,
 "nbformat_minor": 2
}
