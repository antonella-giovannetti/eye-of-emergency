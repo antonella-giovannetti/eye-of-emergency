{
 "cells": [
  {
   "cell_type": "markdown",
   "metadata": {},
   "source": [
    "## <u style=\"color: blue\">7. Gridsearch</u> "
   ]
  },
  {
   "cell_type": "markdown",
   "metadata": {},
   "source": [
    "Comme précisé dans le notebook principal, vous trouverez ici les calculs de Gridsearch pour définir le modèle le plus performant pour la prédiction de tweets concernant des catastrophes:\n",
    "- Decision Tree\n",
    "- Random Forest\n",
    "- Linear Regression\n",
    "- XGBoost\n",
    "- SVM"
   ]
  },
  {
   "cell_type": "code",
   "execution_count": 1,
   "metadata": {},
   "outputs": [],
   "source": [
    "# importation de toutes les librairies necessaires pour le gridsearch\n",
    "import pandas as pd\n",
    "\n",
    "from sklearn.model_selection import train_test_split\n",
    "from sklearn.model_selection import GridSearchCV\n",
    "\n",
    "from sklearn.linear_model import LogisticRegression\n",
    "from Decision_Tree import DecisionTree\n",
    "from sklearn.tree import DecisionTreeClassifier\n",
    "from sklearn.ensemble import RandomForestClassifier\n",
    "from sklearn import svm\n",
    "import xgboost as xgb"
   ]
  },
  {
   "cell_type": "code",
   "execution_count": 2,
   "metadata": {},
   "outputs": [],
   "source": [
    "# import du csv\n",
    "df_train = pd.read_csv('./CSV/train_tweets_cleaned.csv')"
   ]
  },
  {
   "cell_type": "code",
   "execution_count": 3,
   "metadata": {},
   "outputs": [
    {
     "data": {
      "text/html": [
       "<div>\n",
       "<style scoped>\n",
       "    .dataframe tbody tr th:only-of-type {\n",
       "        vertical-align: middle;\n",
       "    }\n",
       "\n",
       "    .dataframe tbody tr th {\n",
       "        vertical-align: top;\n",
       "    }\n",
       "\n",
       "    .dataframe thead th {\n",
       "        text-align: right;\n",
       "    }\n",
       "</style>\n",
       "<table border=\"1\" class=\"dataframe\">\n",
       "  <thead>\n",
       "    <tr style=\"text-align: right;\">\n",
       "      <th></th>\n",
       "      <th>id</th>\n",
       "      <th>text</th>\n",
       "      <th>target</th>\n",
       "      <th>transformed_text</th>\n",
       "      <th>stemmed_text</th>\n",
       "      <th>vectorized_text_TFIDF</th>\n",
       "      <th>vectorized_text_BoW</th>\n",
       "    </tr>\n",
       "  </thead>\n",
       "  <tbody>\n",
       "    <tr>\n",
       "      <th>0</th>\n",
       "      <td>1</td>\n",
       "      <td>Deeds Reason ALLAH Forgive</td>\n",
       "      <td>1</td>\n",
       "      <td>['Deeds', 'Reason', 'ALLAH', 'Forgive']</td>\n",
       "      <td>['deed', 'reason', 'allah', 'forgiv']</td>\n",
       "      <td>0.000169</td>\n",
       "      <td>[0, 0, 0, 0, 0, 0, 0, 0, 0, 0, 0, 0, 0, 0, 0, ...</td>\n",
       "    </tr>\n",
       "    <tr>\n",
       "      <th>1</th>\n",
       "      <td>4</td>\n",
       "      <td>Forest fire near La Ronge Sask Canada</td>\n",
       "      <td>1</td>\n",
       "      <td>['Forest', 'fire', 'near', 'La', 'Ronge', 'Sas...</td>\n",
       "      <td>['forest', 'fire', 'near', 'la', 'rong', 'sask...</td>\n",
       "      <td>0.000169</td>\n",
       "      <td>[0, 0, 0, 0, 0, 0, 0, 0, 0, 0, 0, 0, 0, 0, 0, ...</td>\n",
       "    </tr>\n",
       "    <tr>\n",
       "      <th>2</th>\n",
       "      <td>5</td>\n",
       "      <td>residents asked shelter place notified officer...</td>\n",
       "      <td>1</td>\n",
       "      <td>['residents', 'asked', 'shelter', 'place', 'no...</td>\n",
       "      <td>['resid', 'ask', 'shelter', 'place', 'notifi',...</td>\n",
       "      <td>0.000336</td>\n",
       "      <td>[0, 0, 0, 0, 0, 0, 0, 0, 0, 0, 0, 0, 0, 0, 0, ...</td>\n",
       "    </tr>\n",
       "    <tr>\n",
       "      <th>3</th>\n",
       "      <td>6</td>\n",
       "      <td>receive evacuation orders California</td>\n",
       "      <td>1</td>\n",
       "      <td>['receive', 'evacuation', 'orders', 'California']</td>\n",
       "      <td>['receiv', 'evacu', 'order', 'california']</td>\n",
       "      <td>0.000631</td>\n",
       "      <td>[0, 0, 0, 0, 0, 0, 0, 0, 0, 0, 0, 0, 0, 0, 0, ...</td>\n",
       "    </tr>\n",
       "    <tr>\n",
       "      <th>4</th>\n",
       "      <td>7</td>\n",
       "      <td>sent photo Ruby smoke pours school</td>\n",
       "      <td>1</td>\n",
       "      <td>['sent', 'photo', 'Ruby', 'smoke', 'pours', 's...</td>\n",
       "      <td>['sent', 'photo', 'rubi', 'smoke', 'pour', 'sc...</td>\n",
       "      <td>0.000161</td>\n",
       "      <td>[0, 0, 0, 0, 0, 0, 0, 0, 0, 0, 0, 0, 0, 0, 0, ...</td>\n",
       "    </tr>\n",
       "  </tbody>\n",
       "</table>\n",
       "</div>"
      ],
      "text/plain": [
       "   id                                               text  target  \\\n",
       "0   1                         Deeds Reason ALLAH Forgive       1   \n",
       "1   4              Forest fire near La Ronge Sask Canada       1   \n",
       "2   5  residents asked shelter place notified officer...       1   \n",
       "3   6               receive evacuation orders California       1   \n",
       "4   7                 sent photo Ruby smoke pours school       1   \n",
       "\n",
       "                                    transformed_text  \\\n",
       "0            ['Deeds', 'Reason', 'ALLAH', 'Forgive']   \n",
       "1  ['Forest', 'fire', 'near', 'La', 'Ronge', 'Sas...   \n",
       "2  ['residents', 'asked', 'shelter', 'place', 'no...   \n",
       "3  ['receive', 'evacuation', 'orders', 'California']   \n",
       "4  ['sent', 'photo', 'Ruby', 'smoke', 'pours', 's...   \n",
       "\n",
       "                                        stemmed_text  vectorized_text_TFIDF  \\\n",
       "0              ['deed', 'reason', 'allah', 'forgiv']               0.000169   \n",
       "1  ['forest', 'fire', 'near', 'la', 'rong', 'sask...               0.000169   \n",
       "2  ['resid', 'ask', 'shelter', 'place', 'notifi',...               0.000336   \n",
       "3         ['receiv', 'evacu', 'order', 'california']               0.000631   \n",
       "4  ['sent', 'photo', 'rubi', 'smoke', 'pour', 'sc...               0.000161   \n",
       "\n",
       "                                 vectorized_text_BoW  \n",
       "0  [0, 0, 0, 0, 0, 0, 0, 0, 0, 0, 0, 0, 0, 0, 0, ...  \n",
       "1  [0, 0, 0, 0, 0, 0, 0, 0, 0, 0, 0, 0, 0, 0, 0, ...  \n",
       "2  [0, 0, 0, 0, 0, 0, 0, 0, 0, 0, 0, 0, 0, 0, 0, ...  \n",
       "3  [0, 0, 0, 0, 0, 0, 0, 0, 0, 0, 0, 0, 0, 0, 0, ...  \n",
       "4  [0, 0, 0, 0, 0, 0, 0, 0, 0, 0, 0, 0, 0, 0, 0, ...  "
      ]
     },
     "execution_count": 3,
     "metadata": {},
     "output_type": "execute_result"
    }
   ],
   "source": [
    "df_train.head()"
   ]
  },
  {
   "cell_type": "code",
   "execution_count": 4,
   "metadata": {},
   "outputs": [],
   "source": [
    "X = df_train['vectorized_text_TFIDF']\n",
    "y = df_train['target']"
   ]
  },
  {
   "cell_type": "code",
   "execution_count": 5,
   "metadata": {},
   "outputs": [],
   "source": [
    "X_train, X_test, y_train, y_test = train_test_split(X, y, test_size=0.2, stratify=y)\n",
    "\n",
    "# XGBoost\n",
    "# SVM\n",
    "# Logistic Regression"
   ]
  },
  {
   "cell_type": "markdown",
   "metadata": {},
   "source": [
    "Gridsearch pour le decision tree :"
   ]
  },
  {
   "cell_type": "code",
   "execution_count": 6,
   "metadata": {},
   "outputs": [],
   "source": [
    "models_params = [\n",
    "{\n",
    "    'model': DecisionTreeClassifier(),\n",
    "    'params': {\n",
    "    'criterion': ['gini', 'entropy']\n",
    "    },\n",
    "},\n",
    "{\n",
    "    'model': RandomForestClassifier(),\n",
    "    'params': {\n",
    "    'criterion': ['gini', 'entropy']\n",
    "    },\n",
    "},\n",
    "{\n",
    "    'model': xgb.XGBClassifier(),\n",
    "    'params': {\n",
    "    },\n",
    "},\n",
    "{\n",
    "    'model': svm.SVC(),\n",
    "    'params': {\n",
    "    'kernel': ['rbf', 'poly', 'sigmoid']\n",
    "    },\n",
    "},\n",
    "{\n",
    "    'model': LogisticRegression(),\n",
    "    'params': {\n",
    "    'solver': ['newton-cg', 'lbfgs', 'liblinear', 'sag', 'saga']\n",
    "    },\n",
    "}\n",
    "\n",
    "]"
   ]
  },
  {
   "cell_type": "code",
   "execution_count": 10,
   "metadata": {},
   "outputs": [
    {
     "name": "stdout",
     "output_type": "stream",
     "text": [
      "Fitting 5 folds for each of 2 candidates, totalling 10 fits\n",
      "Fitting 5 folds for each of 2 candidates, totalling 10 fits\n"
     ]
    },
    {
     "name": "stderr",
     "output_type": "stream",
     "text": [
      "c:\\Users\\x_mat\\AppData\\Local\\Programs\\Python\\Python312\\Lib\\site-packages\\sklearn\\base.py:1473: DataConversionWarning: A column-vector y was passed when a 1d array was expected. Please change the shape of y to (n_samples,), for example using ravel().\n",
      "  return fit_method(estimator, *args, **kwargs)\n"
     ]
    },
    {
     "name": "stdout",
     "output_type": "stream",
     "text": [
      "Fitting 5 folds for each of 1 candidates, totalling 5 fits\n",
      "Fitting 5 folds for each of 3 candidates, totalling 15 fits\n"
     ]
    },
    {
     "name": "stderr",
     "output_type": "stream",
     "text": [
      "c:\\Users\\x_mat\\AppData\\Local\\Programs\\Python\\Python312\\Lib\\site-packages\\sklearn\\utils\\validation.py:1310: DataConversionWarning: A column-vector y was passed when a 1d array was expected. Please change the shape of y to (n_samples, ), for example using ravel().\n",
      "  y = column_or_1d(y, warn=True)\n"
     ]
    },
    {
     "name": "stdout",
     "output_type": "stream",
     "text": [
      "Fitting 5 folds for each of 5 candidates, totalling 25 fits\n",
      "[{'model': DecisionTreeClassifier(), 'best_score': 0.5458622815960872, 'best_params': {'criterion': 'gini'}}, {'model': RandomForestClassifier(), 'best_score': 0.5370677906125294, 'best_params': {'criterion': 'gini'}}, {'model': XGBClassifier(base_score=None, booster=None, callbacks=None,\n",
      "              colsample_bylevel=None, colsample_bynode=None,\n",
      "              colsample_bytree=None, device=None, early_stopping_rounds=None,\n",
      "              enable_categorical=False, eval_metric=None, feature_types=None,\n",
      "              gamma=None, grow_policy=None, importance_type=None,\n",
      "              interaction_constraints=None, learning_rate=None, max_bin=None,\n",
      "              max_cat_threshold=None, max_cat_to_onehot=None,\n",
      "              max_delta_step=None, max_depth=None, max_leaves=None,\n",
      "              min_child_weight=None, missing=nan, monotone_constraints=None,\n",
      "              multi_strategy=None, n_estimators=None, n_jobs=None,\n",
      "              num_parallel_tree=None, random_state=None, ...), 'best_score': 0.549980555176002, 'best_params': {}}, {'model': SVC(), 'best_score': 0.5930363005083683, 'best_params': {'kernel': 'poly'}}, {'model': LogisticRegression(), 'best_score': 0.5930363005083683, 'best_params': {'solver': 'newton-cg'}}]\n"
     ]
    },
    {
     "name": "stderr",
     "output_type": "stream",
     "text": [
      "c:\\Users\\x_mat\\AppData\\Local\\Programs\\Python\\Python312\\Lib\\site-packages\\sklearn\\utils\\validation.py:1310: DataConversionWarning: A column-vector y was passed when a 1d array was expected. Please change the shape of y to (n_samples, ), for example using ravel().\n",
      "  y = column_or_1d(y, warn=True)\n"
     ]
    }
   ],
   "source": [
    "scores = []\n",
    "\n",
    "X_train = X_train.values.reshape(-1, 1)\n",
    "y_train = y_train.values.reshape(-1, 1)\n",
    "\n",
    "for model_param in models_params:\n",
    "    clf = GridSearchCV(model_param['model'], model_param['params'], cv=5, n_jobs=-1, verbose=2)\n",
    "    clf.fit(X_train, y_train)\n",
    "    scores.append({\n",
    "        'model': model_param['model'],\n",
    "        'best_score': clf.best_score_,\n",
    "        'best_params': clf.best_params_\n",
    "    })"
   ]
  },
  {
   "cell_type": "code",
   "execution_count": 11,
   "metadata": {},
   "outputs": [
    {
     "name": "stdout",
     "output_type": "stream",
     "text": [
      "[{'model': DecisionTreeClassifier(), 'best_score': 0.5458622815960872, 'best_params': {'criterion': 'gini'}}, {'model': RandomForestClassifier(), 'best_score': 0.5370677906125294, 'best_params': {'criterion': 'gini'}}, {'model': XGBClassifier(base_score=None, booster=None, callbacks=None,\n",
      "              colsample_bylevel=None, colsample_bynode=None,\n",
      "              colsample_bytree=None, device=None, early_stopping_rounds=None,\n",
      "              enable_categorical=False, eval_metric=None, feature_types=None,\n",
      "              gamma=None, grow_policy=None, importance_type=None,\n",
      "              interaction_constraints=None, learning_rate=None, max_bin=None,\n",
      "              max_cat_threshold=None, max_cat_to_onehot=None,\n",
      "              max_delta_step=None, max_depth=None, max_leaves=None,\n",
      "              min_child_weight=None, missing=nan, monotone_constraints=None,\n",
      "              multi_strategy=None, n_estimators=None, n_jobs=None,\n",
      "              num_parallel_tree=None, random_state=None, ...), 'best_score': 0.549980555176002, 'best_params': {}}, {'model': SVC(), 'best_score': 0.5930363005083683, 'best_params': {'kernel': 'poly'}}, {'model': LogisticRegression(), 'best_score': 0.5930363005083683, 'best_params': {'solver': 'newton-cg'}}]\n"
     ]
    }
   ],
   "source": [
    "print(scores)"
   ]
  },
  {
   "cell_type": "markdown",
   "metadata": {},
   "source": [
    "[{'model': DecisionTreeClassifier(), 'best_score': 0.5458622815960872, 'best_params': {'criterion': 'gini'}}, {'model': RandomForestClassifier(), 'best_score': 0.5370677906125294, 'best_params': {'criterion': 'gini'}}, {'model': XGBClassifier(base_score=None, booster=None, callbacks=None,\n",
    "              colsample_bylevel=None, colsample_bynode=None,\n",
    "              colsample_bytree=None, device=None, early_stopping_rounds=None,\n",
    "              enable_categorical=False, eval_metric=None, feature_types=None,\n",
    "              gamma=None, grow_policy=None, importance_type=None,\n",
    "              interaction_constraints=None, learning_rate=None, max_bin=None,\n",
    "              max_cat_threshold=None, max_cat_to_onehot=None,\n",
    "              max_delta_step=None, max_depth=None, max_leaves=None,\n",
    "              min_child_weight=None, missing=nan, monotone_constraints=None,\n",
    "              multi_strategy=None, n_estimators=None, n_jobs=None,\n",
    "              num_parallel_tree=None, random_state=None, ...), 'best_score': 0.549980555176002, 'best_params': {}}, {'model': SVC(), 'best_score': 0.5930363005083683, 'best_params': {'kernel': 'poly'}}, {'model': LogisticRegression(), 'best_score': 0.5930363005083683, 'best_params': {'solver': 'newton-cg'}}]\n",
    "\n",
    "Le meilleur modèle est le SVM avec un score de 0.5930363005083683 et les paramètres suivants : {'kernel': 'poly'}"
   ]
  },
  {
   "cell_type": "code",
   "execution_count": 16,
   "metadata": {},
   "outputs": [
    {
     "name": "stdout",
     "output_type": "stream",
     "text": [
      "Fitting 5 folds for each of 75 candidates, totalling 375 fits\n"
     ]
    },
    {
     "name": "stderr",
     "output_type": "stream",
     "text": [
      "c:\\Users\\x_mat\\AppData\\Local\\Programs\\Python\\Python312\\Lib\\site-packages\\sklearn\\utils\\validation.py:1310: DataConversionWarning: A column-vector y was passed when a 1d array was expected. Please change the shape of y to (n_samples, ), for example using ravel().\n",
      "  y = column_or_1d(y, warn=True)\n"
     ]
    }
   ],
   "source": [
    "# gridsearch for best hyperparameters for svM\n",
    "\n",
    "model = svm.SVC()\n",
    "params = {\n",
    "    'kernel': ['rbf', 'poly', 'sigmoid'],\n",
    "    'C': [0.1, 1, 10, 100, 1000],\n",
    "    'gamma': [1, 0.1, 0.01, 0.001, 0.0001]\n",
    "}\n",
    "\n",
    "models_scores = []\n",
    "\n",
    "clf = GridSearchCV(model, params, cv=5, n_jobs=-1, verbose=2)\n",
    "clf.fit(X_train, y_train)\n",
    "models_scores.append({\n",
    "    'model': model,\n",
    "    'best_score': clf.best_score_,\n",
    "    'best_params': clf.best_params_\n",
    "})"
   ]
  },
  {
   "cell_type": "code",
   "execution_count": 17,
   "metadata": {},
   "outputs": [
    {
     "name": "stdout",
     "output_type": "stream",
     "text": [
      "[{'model': SVC(), 'best_score': 0.5930363005083683, 'best_params': {'C': 0.1, 'gamma': 1, 'kernel': 'rbf'}}]\n"
     ]
    }
   ],
   "source": [
    "print(models_scores)"
   ]
  },
  {
   "cell_type": "markdown",
   "metadata": {},
   "source": [
    "Maintenant que nous en avons terminé avec la partie du Gridsearch, nous pouvons retourner sur le premier notebook afin de mettre en application les résultats obtenus."
   ]
  },
  {
   "cell_type": "markdown",
   "metadata": {},
   "source": [
    "## <u style=\"color: blue\">[8. Evaluation des modèles](./Eye_Of_Emergency.ipynb#8.-Evaluation-des-modèles)</u>"
   ]
  }
 ],
 "metadata": {
  "kernelspec": {
   "display_name": "Python 3",
   "language": "python",
   "name": "python3"
  },
  "language_info": {
   "codemirror_mode": {
    "name": "ipython",
    "version": 3
   },
   "file_extension": ".py",
   "mimetype": "text/x-python",
   "name": "python",
   "nbconvert_exporter": "python",
   "pygments_lexer": "ipython3",
   "version": "3.12.2"
  }
 },
 "nbformat": 4,
 "nbformat_minor": 2
}
